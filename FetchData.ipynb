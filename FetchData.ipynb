{
 "cells": [
  {
   "cell_type": "code",
   "execution_count": 142,
   "metadata": {
    "collapsed": false
   },
   "outputs": [
    {
     "name": "stdout",
     "output_type": "stream",
     "text": [
      "The autoreload extension is already loaded. To reload it, use:\n",
      "  %reload_ext autoreload\n"
     ]
    }
   ],
   "source": [
    "%load_ext autoreload\n",
    "%autoreload 2\n",
    "    \n",
    "from api.RequestOpenFood import QuerryError\n",
    "from api.RequestOpenFood import RequestOpenFood\n",
    "from api.RequestOpenFood import ProductBuilder\n",
    "\n",
    "import api.Chart\n",
    "import matplotlib.pyplot as plt\n",
    "%matplotlib inline"
   ]
  },
  {
   "cell_type": "code",
   "execution_count": 179,
   "metadata": {
    "collapsed": false
   },
   "outputs": [
    {
     "name": "stdout",
     "output_type": "stream",
     "text": [
      "{'Acides gras saturées': ['-', '0.0'], 'Sucres': ['8.0', '0.0'], 'Énergie': ['140.0', '0.9'], 'Matières grasses': ['0.5', '0.0'], 'Fibres alimentaires': ['0.0', '-'], 'Sel': ['0.02', '0.02'], 'Énergie (kCal)': ['32.0', '0.0'], 'Protéines': ['0.0', '0.0'], 'Glucides': ['8.0', '0.0']}\n",
      "{'Acides gras saturées': [0, 0.0], 'Sucres': [8.0, 0.0], 'Énergie': [140.0, 0.9], 'Matières grasses': [0.5, 0.0], 'Fibres alimentaires': [0.0, 0], 'Sel': [0.02, 0.02], 'Énergie (kCal)': [32.0, 0.0], 'Protéines': [0.0, 0.0], 'Glucides': [8.0, 0.0]}\n",
      "['g', 'g', 'kJ', 'g', 'g', 'g', 'kCal', 'g', 'g']\n",
      "25752\n"
     ]
    },
    {
     "data": {
      "image/png": "[encoded data removed]",
      "text/plain": [
       "<matplotlib.figure.Figure at 0x7f7751281208>"
      ]
     },
     "metadata": {},
     "output_type": "display_data"
    }
   ],
   "source": [
    "name_search = ['chocolat', 'noix']\n",
    "ingerdient_search = ['lait', 'miel']\n",
    "barcode_search = '7610848493136'\n",
    "avoid_ingredient = 'noisette'\n",
    "\n",
    "\n",
    "# 7610235000329 - henniez bleu\n",
    "# 7610235000558 - henniez vert\n",
    "# 7613033774188 - henniez special\n",
    "\n",
    "\n",
    "    \n",
    "try:\n",
    "    #print('--- Name search:', name_search)\n",
    "    #res = RequestOpenFood.search_name(id_from=0, id_size=5, name=name_search)\n",
    "    #res = ProductBuilder.clean_data(res)\n",
    "    \n",
    "    #print('--- Barcode search', barcode_search)\n",
    "    #res = RequestOpenFood.get_product(barcode=barcode_search)\n",
    "    #res = ProductBuilder.clean_data(res)\n",
    "    \n",
    "    \n",
    "    res = RequestOpenFood.get_product(barcode='76168352')\n",
    "    res = ProductBuilder.clean_data(res)\n",
    "    res2 = RequestOpenFood.get_product(barcode='5449000131836')\n",
    "    res2 = ProductBuilder.clean_data(res2)\n",
    "    data = RequestOpenFood.compare_data(res[0], res2[0])\n",
    "    print(len(data))\n",
    "    \n",
    "except QuerryError as err:\n",
    "    print('Error', err.id_error, err.message)\n",
    "    "
   ]
  },
  {
   "cell_type": "code",
   "execution_count": 113,
   "metadata": {
    "collapsed": false
   },
   "outputs": [
    {
     "name": "stdout",
     "output_type": "stream",
     "text": [
      "{'Énergie': ['30.0', '-'], 'Matières grasses': ['0.0', '-'], 'Calcium': ['-', '104.0'], 'Sodium': ['-', '7.0'], 'Magnesium': ['-', '20.0'], 'Énergie (kCal)': ['7.0', '-'], 'Protéines': ['0.0', '-'], 'Glucides': ['1.7', '-']}\n",
      "['kJ', 'g', 'mg', 'g', 'mg', 'kCal', 'g', 'g']\n"
     ]
    }
   ],
   "source": [
    "print(data)\n",
    "res = RequestOpenFood.get_nutrient(data)\n",
    "print(res)"
   ]
  },
  {
   "cell_type": "code",
   "execution_count": 443,
   "metadata": {
    "collapsed": false
   },
   "outputs": [
    {
     "ename": "AttributeError",
     "evalue": "'BarContainer' object has no attribute 'set_xlabel'",
     "output_type": "error",
     "traceback": [
      "\u001b[1;31m---------------------------------------------------------------------------\u001b[0m",
      "\u001b[1;31mAttributeError\u001b[0m                            Traceback (most recent call last)",
      "\u001b[1;32m<ipython-input-443-9e9929aa0422>\u001b[0m in \u001b[0;36m<module>\u001b[1;34m()\u001b[0m\n\u001b[0;32m     17\u001b[0m \u001b[0mplt\u001b[0m\u001b[1;33m.\u001b[0m\u001b[0mfigure\u001b[0m\u001b[1;33m(\u001b[0m\u001b[0mfigsize\u001b[0m\u001b[1;33m=\u001b[0m\u001b[1;33m(\u001b[0m\u001b[1;36m12\u001b[0m\u001b[1;33m,\u001b[0m \u001b[1;36m8\u001b[0m\u001b[1;33m)\u001b[0m\u001b[1;33m)\u001b[0m\u001b[1;33m\u001b[0m\u001b[0m\n\u001b[0;32m     18\u001b[0m \u001b[0max\u001b[0m \u001b[1;33m=\u001b[0m \u001b[0mbarh\u001b[0m\u001b[1;33m(\u001b[0m\u001b[0mpos\u001b[0m\u001b[1;33m,\u001b[0m\u001b[0mval\u001b[0m\u001b[1;33m,\u001b[0m \u001b[0malign\u001b[0m\u001b[1;33m=\u001b[0m\u001b[1;34m'center'\u001b[0m\u001b[1;33m,\u001b[0m \u001b[0mcolor\u001b[0m\u001b[1;33m=\u001b[0m\u001b[1;34m'green'\u001b[0m\u001b[1;33m)\u001b[0m\u001b[1;33m\u001b[0m\u001b[0m\n\u001b[1;32m---> 19\u001b[1;33m \u001b[0max\u001b[0m\u001b[1;33m.\u001b[0m\u001b[0mset_xlabel\u001b[0m\u001b[1;33m(\u001b[0m\u001b[1;34m\"Amount ($)\"\u001b[0m\u001b[1;33m)\u001b[0m\u001b[1;33m\u001b[0m\u001b[0m\n\u001b[0m\u001b[0;32m     20\u001b[0m \u001b[0max\u001b[0m\u001b[1;33m.\u001b[0m\u001b[0mset_ylabel\u001b[0m\u001b[1;33m(\u001b[0m\u001b[1;34m\"Frequency\"\u001b[0m\u001b[1;33m)\u001b[0m\u001b[1;33m\u001b[0m\u001b[0m\n\u001b[0;32m     21\u001b[0m \u001b[0max\u001b[0m\u001b[1;33m.\u001b[0m\u001b[0mset_xticklabels\u001b[0m\u001b[1;33m(\u001b[0m\u001b[0mx_labels\u001b[0m\u001b[1;33m)\u001b[0m\u001b[1;33m\u001b[0m\u001b[0m\n",
      "\u001b[1;31mAttributeError\u001b[0m: 'BarContainer' object has no attribute 'set_xlabel'"
     ]
    },
    {
     "data": {
      "image/png": "[encoded data removed]",
      "text/plain": [
       "<matplotlib.figure.Figure at 0x7f4f00087ef0>"
      ]
     },
     "metadata": {},
     "output_type": "display_data"
    }
   ],
   "source": [
    "%matplotlib inline\n",
    "import matplotlib.pyplot as plt\n",
    "from matplotlib.backends.backend_agg import FigureCanvasAgg as FigureCanvas\n",
    "import io\n",
    "from pylab import *\n",
    "\n",
    "import numpy as np\n",
    "import pandas as pd\n",
    "\n",
    "frequencies = [6, 16, 75, 160, 244, 260, 145, 73, 16, 4, 1]   # bring some raw data\n",
    "\n",
    "freq_series = pd.Series.from_array(frequencies)   # in my original code I create a series and run on that, so for consistency I create a series from the list.\n",
    "\n",
    "x_labels = [108300.0, 110540.0, 112780.0, 115020.0, 117260.0, 119500.0, 121740.0, 123980.0, 126220.0, 128460.0, 130700.0]\n",
    "\n",
    "# now to plot the figure...\n",
    "plt.figure(figsize=(12, 8))\n",
    "ax = barh(pos,val, align='center', color='green')\n",
    "ax.set_xlabel(\"Amount ($)\")\n",
    "ax.set_ylabel(\"Frequency\")\n",
    "ax.set_xticklabels(x_labels)\n",
    "\n",
    "rects = ax.patches\n",
    "\n",
    "# Now make some labels\n",
    "labels = [\"label%d\" % i for i in range(len(rects))]\n",
    "\n",
    "for rect, label in zip(rects, labels):\n",
    "    height = rect.get_height()\n",
    "    ax.text(rect.get_x() + rect.get_width()/2, height + 5, label, ha='center', va='bottom')\n",
    "\n"
   ]
  }
 ],
 "metadata": {
  "anaconda-cloud": {},
  "kernelspec": {
   "display_name": "Python [Root]",
   "language": "python",
   "name": "Python [Root]"
  },
  "language_info": {
   "codemirror_mode": {
    "name": "ipython",
    "version": 3
   },
   "file_extension": ".py",
   "mimetype": "text/x-python",
   "name": "python",
   "nbconvert_exporter": "python",
   "pygments_lexer": "ipython3",
   "version": "3.5.2"
  }
 },
 "nbformat": 4,
 "nbformat_minor": 0
}
