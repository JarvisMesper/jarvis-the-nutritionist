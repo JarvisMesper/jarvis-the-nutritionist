{
 "cells": [
  {
   "cell_type": "code",
   "execution_count": 2,
   "metadata": {
    "collapsed": true
   },
   "outputs": [],
   "source": [
    "%matplotlib inline\n",
    "import folium\n",
    "import os\n",
    "import json\n",
    "from branca.colormap import *\n",
    "import os\n",
    "import json\n",
    "import pandas as pd\n",
    "import numpy as np\n",
    "import csv\n",
    "import matplotlib.path as mplPath"
   ]
  },
  {
   "cell_type": "code",
   "execution_count": 27,
   "metadata": {
    "collapsed": false
   },
   "outputs": [],
   "source": [
    "data = pd.read_json(\"data/all_products_complete_1486637377.json\", orient = \"index\")\n"
   ]
  },
  {
   "cell_type": "code",
   "execution_count": 28,
   "metadata": {
    "collapsed": false
   },
   "outputs": [
    {
     "data": {
      "text/html": [
       "<div>\n",
       "<table border=\"1\" class=\"dataframe\">\n",
       "  <thead>\n",
       "    <tr style=\"text-align: right;\">\n",
       "      <th></th>\n",
       "      <th>0</th>\n",
       "      <th>1</th>\n",
       "      <th>2</th>\n",
       "      <th>3</th>\n",
       "      <th>4</th>\n",
       "      <th>5</th>\n",
       "      <th>6</th>\n",
       "      <th>7</th>\n",
       "      <th>8</th>\n",
       "      <th>9</th>\n",
       "      <th>...</th>\n",
       "      <th>14804</th>\n",
       "      <th>14805</th>\n",
       "      <th>14806</th>\n",
       "      <th>14807</th>\n",
       "      <th>14808</th>\n",
       "      <th>14809</th>\n",
       "      <th>14810</th>\n",
       "      <th>14811</th>\n",
       "      <th>14812</th>\n",
       "      <th>14813</th>\n",
       "    </tr>\n",
       "  </thead>\n",
       "  <tbody>\n",
       "    <tr>\n",
       "      <th>data</th>\n",
       "      <td>{'type': 'products', 'id': '13218', 'attribute...</td>\n",
       "      <td>{'type': 'products', 'id': '11939', 'attribute...</td>\n",
       "      <td>{'type': 'products', 'id': '4647', 'attributes...</td>\n",
       "      <td>{'type': 'products', 'id': '11747', 'attribute...</td>\n",
       "      <td>{'type': 'products', 'id': '3450', 'attributes...</td>\n",
       "      <td>{'type': 'products', 'id': '4963', 'attributes...</td>\n",
       "      <td>{'type': 'products', 'id': '6261', 'attributes...</td>\n",
       "      <td>{'type': 'products', 'id': '6294', 'attributes...</td>\n",
       "      <td>{'type': 'products', 'id': '7413', 'attributes...</td>\n",
       "      <td>{'type': 'products', 'id': '1014', 'attributes...</td>\n",
       "      <td>...</td>\n",
       "      <td>{'type': 'products', 'id': '11165', 'attribute...</td>\n",
       "      <td>{'type': 'products', 'id': '6271', 'attributes...</td>\n",
       "      <td>{'type': 'products', 'id': '6570', 'attributes...</td>\n",
       "      <td>{'type': 'products', 'id': '6184', 'attributes...</td>\n",
       "      <td>{'type': 'products', 'id': '9229', 'attributes...</td>\n",
       "      <td>{'type': 'products', 'id': '1658', 'attributes...</td>\n",
       "      <td>{'type': 'products', 'id': '1660', 'attributes...</td>\n",
       "      <td>{'type': 'products', 'id': '1689', 'attributes...</td>\n",
       "      <td>{'type': 'products', 'id': '1681', 'attributes...</td>\n",
       "      <td>{'type': 'products', 'id': '1682', 'attributes...</td>\n",
       "    </tr>\n",
       "  </tbody>\n",
       "</table>\n",
       "<p>1 rows × 14814 columns</p>\n",
       "</div>"
      ],
      "text/plain": [
       "                                                  0      \\\n",
       "data  {'type': 'products', 'id': '13218', 'attribute...   \n",
       "\n",
       "                                                  1      \\\n",
       "data  {'type': 'products', 'id': '11939', 'attribute...   \n",
       "\n",
       "                                                  2      \\\n",
       "data  {'type': 'products', 'id': '4647', 'attributes...   \n",
       "\n",
       "                                                  3      \\\n",
       "data  {'type': 'products', 'id': '11747', 'attribute...   \n",
       "\n",
       "                                                  4      \\\n",
       "data  {'type': 'products', 'id': '3450', 'attributes...   \n",
       "\n",
       "                                                  5      \\\n",
       "data  {'type': 'products', 'id': '4963', 'attributes...   \n",
       "\n",
       "                                                  6      \\\n",
       "data  {'type': 'products', 'id': '6261', 'attributes...   \n",
       "\n",
       "                                                  7      \\\n",
       "data  {'type': 'products', 'id': '6294', 'attributes...   \n",
       "\n",
       "                                                  8      \\\n",
       "data  {'type': 'products', 'id': '7413', 'attributes...   \n",
       "\n",
       "                                                  9      \\\n",
       "data  {'type': 'products', 'id': '1014', 'attributes...   \n",
       "\n",
       "                            ...                          \\\n",
       "data                        ...                           \n",
       "\n",
       "                                                  14804  \\\n",
       "data  {'type': 'products', 'id': '11165', 'attribute...   \n",
       "\n",
       "                                                  14805  \\\n",
       "data  {'type': 'products', 'id': '6271', 'attributes...   \n",
       "\n",
       "                                                  14806  \\\n",
       "data  {'type': 'products', 'id': '6570', 'attributes...   \n",
       "\n",
       "                                                  14807  \\\n",
       "data  {'type': 'products', 'id': '6184', 'attributes...   \n",
       "\n",
       "                                                  14808  \\\n",
       "data  {'type': 'products', 'id': '9229', 'attributes...   \n",
       "\n",
       "                                                  14809  \\\n",
       "data  {'type': 'products', 'id': '1658', 'attributes...   \n",
       "\n",
       "                                                  14810  \\\n",
       "data  {'type': 'products', 'id': '1660', 'attributes...   \n",
       "\n",
       "                                                  14811  \\\n",
       "data  {'type': 'products', 'id': '1689', 'attributes...   \n",
       "\n",
       "                                                  14812  \\\n",
       "data  {'type': 'products', 'id': '1681', 'attributes...   \n",
       "\n",
       "                                                  14813  \n",
       "data  {'type': 'products', 'id': '1682', 'attributes...  \n",
       "\n",
       "[1 rows x 14814 columns]"
      ]
     },
     "execution_count": 28,
     "metadata": {},
     "output_type": "execute_result"
    }
   ],
   "source": [
    "data.head()"
   ]
  },
  {
   "cell_type": "code",
   "execution_count": 29,
   "metadata": {
    "collapsed": false
   },
   "outputs": [
    {
     "data": {
      "text/plain": [
       "dict_keys(['type', 'id', 'attributes'])"
      ]
     },
     "execution_count": 29,
     "metadata": {},
     "output_type": "execute_result"
    }
   ],
   "source": [
    "data[0][0].keys()"
   ]
  },
  {
   "cell_type": "code",
   "execution_count": 14,
   "metadata": {
    "collapsed": false
   },
   "outputs": [
    {
     "data": {
      "text/plain": [
       "'13218'"
      ]
     },
     "execution_count": 14,
     "metadata": {},
     "output_type": "execute_result"
    }
   ],
   "source": [
    "data[\"data\"][0][\"id\"]"
   ]
  },
  {
   "cell_type": "code",
   "execution_count": 15,
   "metadata": {
    "collapsed": false
   },
   "outputs": [
    {
     "data": {
      "text/plain": [
       "'products'"
      ]
     },
     "execution_count": 15,
     "metadata": {},
     "output_type": "execute_result"
    }
   ],
   "source": [
    "data[\"data\"][0][\"type\"]"
   ]
  },
  {
   "cell_type": "code",
   "execution_count": 22,
   "metadata": {
    "collapsed": false
   },
   "outputs": [
    {
     "data": {
      "text/plain": [
       "[{'name': 'Energy',\n",
       "  'name-translations': {'de': 'Energie',\n",
       "   'en': 'Energy',\n",
       "   'fr': 'Énergie',\n",
       "   'it': 'Energia'},\n",
       "  'order': 1,\n",
       "  'per-day': None,\n",
       "  'per-hundred': '387.0',\n",
       "  'per-portion': None,\n",
       "  'unit': 'kJ'},\n",
       " {'name': 'Energy (kCal)',\n",
       "  'name-translations': {'de': 'Energie (kCal)',\n",
       "   'en': 'Energy (kCal)',\n",
       "   'fr': 'Énergie (kCal)',\n",
       "   'it': 'Energia (kCal)'},\n",
       "  'order': 1,\n",
       "  'per-day': None,\n",
       "  'per-hundred': '93.0',\n",
       "  'per-portion': None,\n",
       "  'unit': 'kCal'},\n",
       " {'name': 'Fat',\n",
       "  'name-translations': {'de': 'Fett',\n",
       "   'en': 'Fat',\n",
       "   'fr': 'Matières grasses',\n",
       "   'it': 'Grassi'},\n",
       "  'order': 4,\n",
       "  'per-day': None,\n",
       "  'per-hundred': '4.5',\n",
       "  'per-portion': None,\n",
       "  'unit': 'g'},\n",
       " {'name': 'Saturated fat',\n",
       "  'name-translations': {'de': 'Gesättigte Fettsäuren',\n",
       "   'en': 'Saturated fat',\n",
       "   'fr': 'Acides gras saturées',\n",
       "   'it': 'Acidi grassi saturi'},\n",
       "  'order': 5,\n",
       "  'per-day': None,\n",
       "  'per-hundred': '0.5',\n",
       "  'per-portion': None,\n",
       "  'unit': 'g'},\n",
       " {'name': 'Carbohydrates',\n",
       "  'name-translations': {'de': 'Kohlenhydrate',\n",
       "   'en': 'Carbohydrates',\n",
       "   'fr': 'Glucides',\n",
       "   'it': 'Carboidrati'},\n",
       "  'order': 5,\n",
       "  'per-day': None,\n",
       "  'per-hundred': '11.0',\n",
       "  'per-portion': None,\n",
       "  'unit': 'g'},\n",
       " {'name': 'Sugars',\n",
       "  'name-translations': {'de': 'Zucker',\n",
       "   'en': 'Sugars',\n",
       "   'fr': 'Sucres',\n",
       "   'it': 'Zuccheri'},\n",
       "  'order': 5,\n",
       "  'per-day': None,\n",
       "  'per-hundred': '0.5',\n",
       "  'per-portion': None,\n",
       "  'unit': 'g'},\n",
       " {'name': 'Fiber',\n",
       "  'name-translations': {'de': 'Ballaststoffe',\n",
       "   'en': 'Fiber',\n",
       "   'fr': 'Fibres alimentaires',\n",
       "   'it': 'Fibre'},\n",
       "  'order': 8,\n",
       "  'per-day': None,\n",
       "  'per-hundred': '1.0',\n",
       "  'per-portion': None,\n",
       "  'unit': 'g'},\n",
       " {'name': 'Protein',\n",
       "  'name-translations': {'de': 'Eiweiss',\n",
       "   'en': 'Protein',\n",
       "   'fr': 'Protéines',\n",
       "   'it': 'Proteine'},\n",
       "  'order': 9,\n",
       "  'per-day': None,\n",
       "  'per-hundred': '1.5',\n",
       "  'per-portion': None,\n",
       "  'unit': 'g'},\n",
       " {'name': 'Salt',\n",
       "  'name-translations': {'de': 'Salz', 'en': 'Salt', 'fr': 'Sel', 'it': 'Sale'},\n",
       "  'order': 10,\n",
       "  'per-day': None,\n",
       "  'per-hundred': '0.93',\n",
       "  'per-portion': None,\n",
       "  'unit': 'g'}]"
      ]
     },
     "execution_count": 22,
     "metadata": {},
     "output_type": "execute_result"
    }
   ],
   "source": [
    "data[\"data\"][0][\"attributes\"][\"nutrients\"]"
   ]
  },
  {
   "cell_type": "code",
   "execution_count": null,
   "metadata": {
    "collapsed": true
   },
   "outputs": [],
   "source": []
  }
 ],
 "metadata": {
  "anaconda-cloud": {},
  "kernelspec": {
   "display_name": "Python [Root]",
   "language": "python",
   "name": "Python [Root]"
  },
  "language_info": {
   "codemirror_mode": {
    "name": "ipython",
    "version": 3
   },
   "file_extension": ".py",
   "mimetype": "text/x-python",
   "name": "python",
   "nbconvert_exporter": "python",
   "pygments_lexer": "ipython3",
   "version": "3.5.2"
  }
 },
 "nbformat": 4,
 "nbformat_minor": 0
}
